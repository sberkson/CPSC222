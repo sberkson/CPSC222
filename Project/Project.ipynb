{
 "cells": [
  {
   "cell_type": "code",
   "execution_count": 1,
   "metadata": {},
   "outputs": [],
   "source": [
    "# Spotify\n",
    "\n"
   ]
  },
  {
   "cell_type": "markdown",
   "metadata": {},
   "source": [
    "## Data Loading and Cleaning"
   ]
  },
  {
   "cell_type": "code",
   "execution_count": 8,
   "metadata": {},
   "outputs": [
    {
     "name": "stdout",
     "output_type": "stream",
     "text": [
      "               endTime              artistName                  trackName  \\\n",
      "0     2020-10-14 20:52  Grover Washington, Jr.         Just the Two of Us   \n",
      "1     2020-10-15 22:44          Internet Money                   Lemonade   \n",
      "2     2020-10-15 22:45                    C418                  Wet Hands   \n",
      "3     2020-10-15 22:48              Winter Aid             The Wisp Sings   \n",
      "4     2020-10-15 23:26            Metro Boomin  Space Cadet (feat. Gunna)   \n",
      "...                ...                     ...                        ...   \n",
      "9995  2020-12-21 23:19                    Pogo              Living Island   \n",
      "9996  2020-12-21 23:24           Fleetwood Mac     Dreams - 2004 Remaster   \n",
      "9997  2020-12-21 23:30                 Outkast                      Roses   \n",
      "9998  2020-12-21 23:34             Frank Ocean                       Lost   \n",
      "9999  2020-12-22 00:19            Trippie Redd                 Excitement   \n",
      "\n",
      "      msPlayed  \n",
      "0        12990  \n",
      "1       195428  \n",
      "2        90000  \n",
      "3        60126  \n",
      "4       203266  \n",
      "...        ...  \n",
      "9995     79084  \n",
      "9996    257800  \n",
      "9997    369573  \n",
      "9998    234093  \n",
      "9999    283270  \n",
      "\n",
      "[10000 rows x 4 columns]\n"
     ]
    }
   ],
   "source": [
    "import numpy as np\n",
    "import pandas as pd\n",
    "import json\n",
    "\n",
    "samStreaming = pd.DataFrame(dtype = None)\n",
    "masonStreaming = pd.DataFrame(dtype = None)\n",
    "\n",
    "samStreaming = json.load(open('/Users/sberkson/Desktop/Gonzaga/CPSC222/Project/SamData/StreamingHistory0.json'))\n",
    "masonStreaming = json.load(open('/Users/sberkson/Desktop/Gonzaga/CPSC222/Project/MasonData/StreamingHistory0.json'))\n",
    "samStreaming = pd.DataFrame(samStreaming)\n",
    "masonStreaming = pd.DataFrame(masonStreaming)"
   ]
  }
 ],
 "metadata": {
  "interpreter": {
   "hash": "7b639dd3956d1ea949d1be02ef43c9b05c64a6b2f005de22d521c23e3c341cfd"
  },
  "kernelspec": {
   "display_name": "Python 3.8.8 64-bit ('base': conda)",
   "language": "python",
   "name": "python3"
  },
  "language_info": {
   "codemirror_mode": {
    "name": "ipython",
    "version": 3
   },
   "file_extension": ".py",
   "mimetype": "text/x-python",
   "name": "python",
   "nbconvert_exporter": "python",
   "pygments_lexer": "ipython3",
   "version": "3.8.8"
  },
  "orig_nbformat": 4
 },
 "nbformat": 4,
 "nbformat_minor": 2
}
